{
 "cells": [
  {
   "cell_type": "markdown",
   "metadata": {},
   "source": [
    "# The Automated Environmental Modeller\n",
    "\n",
    "Created by: Darrell Leong \\\n",
    "Contact: Darrell@u.nus.edu\n",
    "\n",
    "## Abstract\n",
    "Scatter diagrams are typically available in the form of observation counts or normalised into frequencies. These classes of Python modules aim to perform long-term uncertainty modelling of sea state parameters in an automated fashion. The first class takes in the scatter diagram and fits model parameters using DNV recommended probability distributions, while the second class performs various analyses with the fitted model. These include extrapolating return period significant wave heights, and contouring of $N$-year conditions."
   ]
  },
  {
   "cell_type": "code",
   "execution_count": 1,
   "metadata": {},
   "outputs": [],
   "source": [
    "# import libraries\n",
    "import numpy as np\n",
    "import matplotlib.pyplot as plt\n",
    "import pandas as pd\n",
    "from scipy import stats\n",
    "import scipy.optimize as optimization"
   ]
  },
  {
   "cell_type": "markdown",
   "metadata": {},
   "source": [
    "## Input Dataset for Model Fitting\n",
    "\n",
    "The input data into this tool is a form of a scatter diagram in the Excel spread sheet $\\textbf{scatter.xlsx}$. The scatter table can be of any $N\\times M$ size, normalised as frequencies or observation counts."
   ]
  },
  {
   "cell_type": "code",
   "execution_count": 2,
   "metadata": {},
   "outputs": [],
   "source": [
    "#%% Importing the dataset\n",
    "df = pd.read_excel('scatter.xlsx')\n",
    "Hs = list(df['Hs(m) / Tz (s)'])\n",
    "Tz = list(df.columns.values)[1:]\n",
    "scatter = df.to_numpy()[:,1:]"
   ]
  },
  {
   "cell_type": "markdown",
   "metadata": {},
   "source": [
    "## Data Fitting Tool"
   ]
  },
  {
   "cell_type": "code",
   "execution_count": 3,
   "metadata": {},
   "outputs": [],
   "source": [
    "# Environmental Analyst Object\n",
    "class EnvFit:\n",
    "    \"\"\"\n",
    "    Analyses scatter diagram to estimate long-term probabilistic characteristics.\n",
    "    \n",
    "    Attributes:\n",
    "        Hs_hist (list(float)): PDF histogram of Hs.\n",
    "        Hs_params (list(float)): Weibull parameters of Hs [alpha, beta, gamma].\n",
    "        Hs_params_ls (list(float)): Weibull parameters of Hs [alpha, beta, gamma], least squares fitted.\n",
    "        Tz_params (list(ndarray)): Log-normal subparameters of Tz [[a0, a1, a2], [b0, b1, b2]].\n",
    "        mu_data (list(float)): Smoothed conditional log mean of Tz (plotted against Hs).\n",
    "        sd_data (list(float)): Smoothed conditional log standard deviation of Tz (plotted against Hs).\n",
    "        \n",
    "    \"\"\"\n",
    "    \n",
    "    def __init__(self, scatter, Hs, Tz):\n",
    "        \"\"\"\n",
    "        Args:\n",
    "            scatter (ndarray): Scatter grid, Hs by Tz.\n",
    "            Hs (list(float)): Hs bins of scatter grid.\n",
    "            Tz (list(float)): Tz bins of scatter grid.\n",
    "            ErrTol (float): Error tolerance factor.\n",
    "        \n",
    "        \"\"\"\n",
    "        self.scatter = scatter\n",
    "        self.Hs = Hs\n",
    "        self.Tz = Tz\n",
    "        \n",
    "        self.Hs_params = self.hsfitting()\n",
    "        self.Tz_params = self.tzfitting()\n",
    "        \n",
    "    def hsfitting(self):\n",
    "        \"\"\"\n",
    "        Parameter fitting function for Hs.\n",
    "        \n",
    "        Returns:\n",
    "            list(float): Weibull parameters of Hs [alpha, beta, gamma].\n",
    "        \"\"\"\n",
    "        self.Hs_hist = np.sum(self.scatter, axis=1)\n",
    "        \n",
    "        #%% Simulate Data from Histogram\n",
    "        self.N = int(1 / min(self.Hs_hist))\n",
    "        Hs_hist_count = [int(h * self.N) for h in self.Hs_hist]\n",
    "        i = 0\n",
    "        data_h = []\n",
    "        for h in self.Hs:\n",
    "            for c in range(Hs_hist_count[i]):\n",
    "                data_h.append(h)\n",
    "            i+=1\n",
    "        self.h_sd = np.std(data_h)\n",
    "        \n",
    "        # Least-squares fitting against Hs_hist to obtain gamma\n",
    "        fitinit = stats.weibull_min.fit(data_h, loc = 0)\n",
    "        x0 = [fitinit[0], fitinit[2], 0.95*min(data_h)]\n",
    "        fun = lambda h, a, b, g: stats.weibull_min.pdf(h-g, a, 0., b)\n",
    "        self.Hs_params_ls = optimization.curve_fit(fun, self.Hs, self.Hs_hist, p0=x0)[0]\n",
    "        gamma = self.Hs_params_ls[2]\n",
    "        \n",
    "        # Fit alpha, beta using maximum liklihood\n",
    "        weibull_params = stats.weibull_min.fit(data_h, loc=gamma)\n",
    "        beta = weibull_params[0]\n",
    "        alpha = weibull_params[2]\n",
    "        \n",
    "        return [alpha, beta, gamma]\n",
    "    \n",
    "    def tzfitting(self, Omega=0.2):\n",
    "        \n",
    "        # Simulate data from scatter\n",
    "        HT_hist_count = [[int(s*self.N) for s in sj] for sj in scatter]\n",
    "        i = 0\n",
    "        data_ht = []\n",
    "        for h in self.Hs:\n",
    "            j = 0\n",
    "            for t in self.Tz:\n",
    "                for c in range(HT_hist_count[i][j]):\n",
    "                    data_ht.append([h, t])\n",
    "                j+=1\n",
    "            i+=1\n",
    "        \n",
    "        fun_mu = lambda h, a0, a1, a2: a0 + a1*h**a2\n",
    "        fun_sd = lambda h, b0, b1, b2: b0 + b1*np.exp(b2*h)\n",
    "        \n",
    "        self.mu_data = []\n",
    "        self.sd_data = []\n",
    "        for hi in self.Hs:\n",
    "            psi = []\n",
    "            num1 = []\n",
    "            for [h, t] in data_ht:\n",
    "                psij = np.exp(-(hi-h)**2 / (2*Omega*self.h_sd))\n",
    "                num1.append(psij * np.log(t))\n",
    "                psi.append(psij)\n",
    "            den = np.sum(psi)\n",
    "            mu_datai = np.sum(num1)/den\n",
    "            \n",
    "            num2 = []\n",
    "            for [h, t], psij in zip(data_ht, psi):\n",
    "                num2.append(psij * (np.log(t) - mu_datai)**2)\n",
    "            sd_datai = np.sqrt(np.sum(num2)/den)\n",
    "            \n",
    "            self.mu_data.append(mu_datai)\n",
    "            self.sd_data.append(sd_datai)\n",
    "        \n",
    "        # Least-squares fitting against smoothed conditional moments to model\n",
    "        x0a = [0.7, 1.27, 0.131]\n",
    "        x0b = [0.133, 0.0264, -0.191]\n",
    "        Tz_params_a = optimization.curve_fit(fun_mu, self.Hs, self.mu_data, p0=x0a)[0]\n",
    "        Tz_params_b = optimization.curve_fit(fun_sd, self.Hs[:-3], self.sd_data[:-3], \n",
    "                                             bounds=([0, 0, -np.inf], np.inf), p0=x0b)[0] # cropped off the tail\n",
    "        \n",
    "        return [Tz_params_a, Tz_params_b]"
   ]
  },
  {
   "cell_type": "markdown",
   "metadata": {},
   "source": [
    "Obtain the environmental parameters by creating an instance of $\\textbf{EnvFit()}$ by inputting the scatter data and the $H_s$ and $T_z$ arrays."
   ]
  },
  {
   "cell_type": "code",
   "execution_count": 4,
   "metadata": {},
   "outputs": [],
   "source": [
    "EnvFitInstance = EnvFit(scatter, Hs, Tz)\n",
    "Hs_params = EnvFitInstance.Hs_params\n",
    "Hs_hist = EnvFitInstance.Hs_hist"
   ]
  },
  {
   "cell_type": "code",
   "execution_count": 5,
   "metadata": {},
   "outputs": [
    {
     "name": "stdout",
     "output_type": "stream",
     "text": [
      "The Hs parameters are:\n",
      "alpha = 3.411\n",
      "beta = 1.668\n",
      "gamma = 0.478\n",
      "The Tz parameters are:\n",
      "a0 = 1.641\n",
      "a1 = 0.389\n",
      "a2 = 0.288\n",
      "b0 = 0.0965\n",
      "b1 = 0.0761\n",
      "b2 = -0.0771\n"
     ]
    }
   ],
   "source": [
    "print('The Hs parameters are:')\n",
    "print('alpha =', '%.3f' % Hs_params[0])\n",
    "print('beta =', '%.3f' % Hs_params[1])\n",
    "print('gamma =', '%.3f' % Hs_params[2])\n",
    "\n",
    "a = EnvFitInstance.Tz_params[0]\n",
    "b = EnvFitInstance.Tz_params[1]\n",
    "print('The Tz parameters are:')\n",
    "print('a0 =', '%.3f' % a[0])\n",
    "print('a1 =', '%.3f' % a[1])\n",
    "print('a2 =', '%.3f' % a[2])\n",
    "print('b0 =', '%.4f' % b[0])\n",
    "print('b1 =', '%.4f' % b[1])\n",
    "print('b2 =', '%.4f' % b[2])"
   ]
  },
  {
   "cell_type": "markdown",
   "metadata": {},
   "source": [
    "## Results\n",
    "\n",
    "Now let's look at the goodness of fit."
   ]
  },
  {
   "cell_type": "code",
   "execution_count": 6,
   "metadata": {},
   "outputs": [
    {
     "data": {
      "text/plain": [
       "Text(0, 0.5, '$\\\\sigma \\\\left[ \\\\ln t | h\\\\right]$')"
      ]
     },
     "execution_count": 6,
     "metadata": {},
     "output_type": "execute_result"
    },
    {
     "data": {
      "image/png": "[encoded data removed]",
      "text/plain": [
       "<Figure size 1080x216 with 3 Axes>"
      ]
     },
     "metadata": {
      "needs_background": "light"
     },
     "output_type": "display_data"
    }
   ],
   "source": [
    "fig, axs = plt.subplots(1, 3, figsize=(15, 3))\n",
    "# Plot Hs histogram\n",
    "axs[0].bar(Hs, Hs_hist)\n",
    "h = np.arange(Hs[0], Hs[-1], (Hs[-1]-Hs[0])/100.0)\n",
    "axs[0].plot(h, stats.weibull_min.pdf(h - Hs_params[2], Hs_params[1], 0., Hs_params[0]), color='red')\n",
    "axs[0].set_xlabel('h (m)')\n",
    "axs[0].set_ylabel('PDF')\n",
    "\n",
    "# Plot fit of conditional moments\n",
    "\n",
    "model_tsd = a[0]+ a[1]*np.power(Hs, a[2])\n",
    "axs[1].plot(Hs, EnvFitInstance.mu_data)\n",
    "axs[1].plot(Hs, model_tsd)\n",
    "axs[1].set_xlabel('h (m)')\n",
    "axs[1].set_ylabel(r'$\\mu \\left[ \\ln t | h\\right]$')\n",
    "\n",
    "model_tsd = b[0]+ b[1]*np.exp(np.multiply(b[2], Hs))\n",
    "axs[2].plot(Hs[:-3], EnvFitInstance.sd_data[:-3])\n",
    "axs[2].plot(Hs, model_tsd)\n",
    "axs[2].set_xlabel('h (m)')\n",
    "axs[2].set_ylabel(r'$\\sigma \\left[ \\ln t | h\\right]$')"
   ]
  },
  {
   "cell_type": "markdown",
   "metadata": {},
   "source": [
    "## Coming Up Next..\n",
    "\n",
    "Using the above fitted model from the scatter diagram, the next class will perform automatic contour plotting by taking 2 additional inputs from the user:\n",
    "- Return Period (years)\n",
    "- Independence assumption (hours)"
   ]
  }
 ],
 "metadata": {
  "kernelspec": {
   "display_name": "Python 3",
   "language": "python",
   "name": "python3"
  },
  "language_info": {
   "codemirror_mode": {
    "name": "ipython",
    "version": 3
   },
   "file_extension": ".py",
   "mimetype": "text/x-python",
   "name": "python",
   "nbconvert_exporter": "python",
   "pygments_lexer": "ipython3",
   "version": "3.7.5"
  }
 },
 "nbformat": 4,
 "nbformat_minor": 2
}
